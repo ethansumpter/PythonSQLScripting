{
 "cells": [
  {
   "metadata": {
    "ExecuteTime": {
     "end_time": "2024-10-05T22:58:26.178503Z",
     "start_time": "2024-10-05T22:58:26.159532Z"
    }
   },
   "cell_type": "code",
   "source": [
    "import os\n",
    "home_items = os.listdir('/Users/ethan')\n",
    "home_content = {\"files\": [], \"directories\": []}"
   ],
   "id": "43c14afbd4f5c55d",
   "outputs": [],
   "execution_count": 60
  },
  {
   "metadata": {},
   "cell_type": "markdown",
   "source": "",
   "id": "5bd656e090a68335"
  },
  {
   "metadata": {
    "ExecuteTime": {
     "end_time": "2024-10-05T22:58:27.450300Z",
     "start_time": "2024-10-05T22:58:27.440832Z"
    }
   },
   "cell_type": "code",
   "source": [
    "home_paths = [os.path.join('/Users/ethan', item) for item in home_items]\n",
    "for path in home_paths:\n",
    "    if os.path.isdir(path):\n",
    "        home_content[\"directories\"].append(path)\n",
    "    if os.path.isfile(path):\n",
    "        home_content[\"files\"].append(path)"
   ],
   "id": "af8c7d9f12931efd",
   "outputs": [],
   "execution_count": 61
  },
  {
   "metadata": {},
   "cell_type": "markdown",
   "source": "",
   "id": "45a55d4a74e19faa"
  },
  {
   "metadata": {
    "ExecuteTime": {
     "end_time": "2024-10-05T22:58:28.603192Z",
     "start_time": "2024-10-05T22:58:28.589573Z"
    }
   },
   "cell_type": "code",
   "source": "home_content",
   "id": "d1118f5c7242624f",
   "outputs": [
    {
     "data": {
      "text/plain": [
       "{'files': ['/Users/ethan/.condarc',\n",
       "  '/Users/ethan/composer.lock',\n",
       "  '/Users/ethan/My First Jupyter Notebook.ipynb',\n",
       "  '/Users/ethan/.DS_Store',\n",
       "  '/Users/ethan/ethans-mbp_FunTechSystemSpecification.json',\n",
       "  '/Users/ethan/.CFUserTextEncoding',\n",
       "  '/Users/ethan/edb_pgagent_pg15.app.zip',\n",
       "  '/Users/ethan/.xonshrc',\n",
       "  '/Users/ethan/.zprofile.bak',\n",
       "  '/Users/ethan/.bashrc',\n",
       "  '/Users/ethan/edb_psqlodbc.app.zip',\n",
       "  '/Users/ethan/.zprofile',\n",
       "  '/Users/ethan/netstat',\n",
       "  '/Users/ethan/.zsh_history',\n",
       "  '/Users/ethan/FThree.hdl',\n",
       "  '/Users/ethan/.nuuid.ini',\n",
       "  '/Users/ethan/.ms_openjdk_config',\n",
       "  '/Users/ethan/wordpress-5.5.1-en_US.tar.gz',\n",
       "  '/Users/ethan/package-lock.json',\n",
       "  '/Users/ethan/package.json',\n",
       "  '/Users/ethan/.tcshrc',\n",
       "  '/Users/ethan/footer.php',\n",
       "  '/Users/ethan/import requests.py',\n",
       "  '/Users/ethan/.517827.padl',\n",
       "  '/Users/ethan/.bash_profile',\n",
       "  '/Users/ethan/temp.cs',\n",
       "  '/Users/ethan/.gitconfig',\n",
       "  '/Users/ethan/.ms_eclipsetemurinjdk_config',\n",
       "  '/Users/ethan/.bash_history',\n",
       "  '/Users/ethan/composer.json',\n",
       "  '/Users/ethan/.viminfo',\n",
       "  '/Users/ethan/FALL.hdl',\n",
       "  '/Users/ethan/.htaccess'],\n",
       " 'directories': ['/Users/ethan/.config',\n",
       "  '/Users/ethan/Music',\n",
       "  '/Users/ethan/.fppkg',\n",
       "  '/Users/ethan/Google Drive (not syncing)',\n",
       "  '/Users/ethan/.bitnami.back',\n",
       "  '/Users/ethan/.plastic4',\n",
       "  '/Users/ethan/.ScreamingFrogSEOSpider',\n",
       "  '/Users/ethan/cwk1',\n",
       "  '/Users/ethan/.templateengine',\n",
       "  '/Users/ethan/.arduinoIDE',\n",
       "  '/Users/ethan/.local',\n",
       "  '/Users/ethan/.lazarus',\n",
       "  '/Users/ethan/Projects',\n",
       "  '/Users/ethan/Pictures',\n",
       "  '/Users/ethan/.km-vm-store',\n",
       "  '/Users/ethan/node_modules',\n",
       "  '/Users/ethan/.openjfx',\n",
       "  '/Users/ethan/.nuget',\n",
       "  '/Users/ethan/.ipython',\n",
       "  '/Users/ethan/Desktop',\n",
       "  '/Users/ethan/Library',\n",
       "  '/Users/ethan/.matplotlib',\n",
       "  '/Users/ethan/.bitnami',\n",
       "  '/Users/ethan/.oracle_jre_usage',\n",
       "  '/Users/ethan/njtest',\n",
       "  '/Users/ethan/.IdentityService',\n",
       "  '/Users/ethan/OneDrive - University of Leeds',\n",
       "  '/Users/ethan/.android',\n",
       "  '/Users/ethan/.cocoapods',\n",
       "  '/Users/ethan/.cups',\n",
       "  '/Users/ethan/DataGripProjects',\n",
       "  '/Users/ethan/flutter',\n",
       "  '/Users/ethan/PycharmProjects',\n",
       "  '/Users/ethan/Public',\n",
       "  '/Users/ethan/.anaconda',\n",
       "  '/Users/ethan/.ssh',\n",
       "  '/Users/ethan/Movies',\n",
       "  '/Users/ethan/Applications',\n",
       "  '/Users/ethan/.gradle',\n",
       "  '/Users/ethan/opt',\n",
       "  '/Users/ethan/.Trash',\n",
       "  '/Users/ethan/.sqldeveloper',\n",
       "  '/Users/ethan/.ipynb_checkpoints',\n",
       "  '/Users/ethan/.jupyter',\n",
       "  '/Users/ethan/.npm',\n",
       "  '/Users/ethan/cwk2',\n",
       "  '/Users/ethan/Documents',\n",
       "  '/Users/ethan/.mono',\n",
       "  '/Users/ethan/.vscode',\n",
       "  '/Users/ethan/.swiftpm',\n",
       "  '/Users/ethan/FileZilla',\n",
       "  '/Users/ethan/.synamedia',\n",
       "  '/Users/ethan/Downloads',\n",
       "  '/Users/ethan/.continuum',\n",
       "  '/Users/ethan/.cache',\n",
       "  '/Users/ethan/.zsh_sessions',\n",
       "  '/Users/ethan/vendor',\n",
       "  '/Users/ethan/.conda',\n",
       "  '/Users/ethan/.composer']}"
      ]
     },
     "execution_count": 62,
     "metadata": {},
     "output_type": "execute_result"
    }
   ],
   "execution_count": 62
  }
 ],
 "metadata": {
  "kernelspec": {
   "display_name": "Python 3",
   "language": "python",
   "name": "python3"
  },
  "language_info": {
   "codemirror_mode": {
    "name": "ipython",
    "version": 2
   },
   "file_extension": ".py",
   "mimetype": "text/x-python",
   "name": "python",
   "nbconvert_exporter": "python",
   "pygments_lexer": "ipython2",
   "version": "2.7.6"
  }
 },
 "nbformat": 4,
 "nbformat_minor": 5
}
